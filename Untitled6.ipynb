{
 "cells": [
  {
   "cell_type": "code",
   "execution_count": 21,
   "id": "4cf99f1d",
   "metadata": {},
   "outputs": [],
   "source": [
    "f=open(\"C:\\\\Users\\\\avrat\\\\Downloads\\\\python.txt\")"
   ]
  },
  {
   "cell_type": "code",
   "execution_count": 2,
   "id": "8d80caed",
   "metadata": {},
   "outputs": [
    {
     "name": "stdout",
     "output_type": "stream",
     "text": [
      "enter: 3\n",
      "What is Python language?                                                \n",
      "\n",
      "Python is a widely used high-level, general-purpose, interpreted, dynamic programming language.Its design philosophy emphasizes code readability, and its syntax allows programmers to express concepts in fewer lines of code than possible in \n",
      "\n",
      "languages such as C++ or Java. \n",
      "\n"
     ]
    }
   ],
   "source": [
    "n = int(input(\"enter: \"))\n",
    "for i in range(n):\n",
    "    print(f.readline())\n",
    "\n"
   ]
  },
  {
   "cell_type": "code",
   "execution_count": 5,
   "id": "f4219a2e",
   "metadata": {},
   "outputs": [
    {
     "name": "stdout",
     "output_type": "stream",
     "text": [
      "enter: 2\n",
      "languages such as C++ or Java. \n",
      "Python supports multiple programming paradigms, including object-oriented, imperative and functional programming or procedural styles. It features a dynamic type system and automatic memory management and has a large and comprehensive standard library.The best way we learn anything is by practice and exercise questions. We  have started this section for those (beginner to intermediate) who are familiar with Python."
     ]
    }
   ],
   "source": [
    "n = int(input(\"enter: \"))\n",
    "for line in (f.readlines() [-n:]):\n",
    "            print(line, end ='')"
   ]
  },
  {
   "cell_type": "code",
   "execution_count": 22,
   "id": "a5b47fb1",
   "metadata": {},
   "outputs": [
    {
     "name": "stdout",
     "output_type": "stream",
     "text": [
      "Number of words in text file : 100\n"
     ]
    }
   ],
   "source": [
    "d= f.read()\n",
    "words=d.split()\n",
    "print('Number of words in text file :', len(words))"
   ]
  },
  {
   "cell_type": "code",
   "execution_count": null,
   "id": "54ae1064",
   "metadata": {},
   "outputs": [],
   "source": []
  },
  {
   "cell_type": "code",
   "execution_count": null,
   "id": "86dafc12",
   "metadata": {},
   "outputs": [],
   "source": []
  }
 ],
 "metadata": {
  "kernelspec": {
   "display_name": "Python 3 (ipykernel)",
   "language": "python",
   "name": "python3"
  },
  "language_info": {
   "codemirror_mode": {
    "name": "ipython",
    "version": 3
   },
   "file_extension": ".py",
   "mimetype": "text/x-python",
   "name": "python",
   "nbconvert_exporter": "python",
   "pygments_lexer": "ipython3",
   "version": "3.9.12"
  }
 },
 "nbformat": 4,
 "nbformat_minor": 5
}
